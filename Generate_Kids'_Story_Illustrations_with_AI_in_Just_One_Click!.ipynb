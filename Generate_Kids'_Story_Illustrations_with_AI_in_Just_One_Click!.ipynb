{
  "cells": [
    {
      "cell_type": "markdown",
      "metadata": {
        "id": "view-in-github",
        "colab_type": "text"
      },
      "source": [
        "<a href=\"https://colab.research.google.com/github/plaban1981/Stable_Diffusion_codes/blob/main/Generate_Kids'_Story_Illustrations_with_AI_in_Just_One_Click!.ipynb\" target=\"_parent\"><img src=\"https://colab.research.google.com/assets/colab-badge.svg\" alt=\"Open In Colab\"/></a>"
      ]
    },
    {
      "cell_type": "markdown",
      "metadata": {
        "id": "7BHUPS8wUaV6"
      },
      "source": [
        "## Author: [Ramsri Goutham](https://twitter.com/ramsri_goutham)"
      ]
    },
    {
      "cell_type": "code",
      "execution_count": null,
      "metadata": {
        "id": "433aOYiTqoo-"
      },
      "outputs": [],
      "source": [
        "!pip install --quiet segmind==0.2.3"
      ]
    },
    {
      "cell_type": "code",
      "execution_count": null,
      "metadata": {
        "id": "FL19xb-7SzFt"
      },
      "outputs": [],
      "source": [
        "!pip install --quiet gradio==3.43.2"
      ]
    },
    {
      "cell_type": "code",
      "execution_count": null,
      "metadata": {
        "id": "mS4dEVUXTK2E"
      },
      "outputs": [],
      "source": [
        "from getpass import getpass\n",
        "openaikey = getpass('Enter the openai API key: ')"
      ]
    },
    {
      "cell_type": "code",
      "execution_count": null,
      "metadata": {
        "id": "DvV1rSLs0OVD"
      },
      "outputs": [],
      "source": [
        "segmindkey = getpass('Enter the segmind API key: ')"
      ]
    },
    {
      "cell_type": "code",
      "execution_count": null,
      "metadata": {
        "id": "N6HfS2X1UyYz"
      },
      "outputs": [],
      "source": [
        "chatgpt_url = \"https://api.openai.com/v1/chat/completions\"\n",
        "chatgpt_headers = {\n",
        "    \"content-type\": \"application/json\",\n",
        "    \"Authorization\":\"Bearer {}\".format(openaikey)}"
      ]
    },
    {
      "cell_type": "code",
      "execution_count": null,
      "metadata": {
        "id": "1fKd5XBBVCH7"
      },
      "outputs": [],
      "source": [
        "import requests\n",
        "import json\n",
        "from pprint import pprint\n",
        "\n",
        "def fetch_illustrator_prompts(prompt, url, headers, max_retries=3):\n",
        "    retries = 0\n",
        "\n",
        "    while retries < max_retries:\n",
        "        # Define the payload for the chat model\n",
        "        messages = [\n",
        "            {\"role\": \"system\", \"content\": \"You are an expert author who can read children's stories and create short briefs for an illustrator, providing specific instructions, ideas, or guidelines for the illustrations you want them to create.\"},\n",
        "            {\"role\": \"user\", \"content\": prompt}\n",
        "        ]\n",
        "\n",
        "        chatgpt_payload = {\n",
        "            \"model\": \"gpt-3.5-turbo-16k\",\n",
        "            \"messages\": messages,\n",
        "            \"temperature\": 1.3,\n",
        "            \"max_tokens\": 2000,\n",
        "            \"top_p\": 1,\n",
        "            \"stop\": [\"###\"]\n",
        "        }\n",
        "\n",
        "        # Make the request to OpenAI's API\n",
        "        response = requests.post(url, json=chatgpt_payload, headers=headers)\n",
        "        response_json = response.json()\n",
        "\n",
        "        try:\n",
        "            # Extract data from the API's response\n",
        "            output = json.loads(response_json['choices'][0]['message']['content'].strip())\n",
        "            # pprint(output)\n",
        "            return output\n",
        "        except json.JSONDecodeError as e:\n",
        "            print(f\"JSON decode error: {e}\")\n",
        "            retries += 1\n",
        "            print(f\"Retry attempt {retries} out of {max_retries}\")\n",
        "\n",
        "    # If max retries are reached without a successful response, return None or handle it as needed.\n",
        "    return None\n"
      ]
    },
    {
      "cell_type": "code",
      "execution_count": null,
      "metadata": {
        "id": "OrNfV9RYWSIy"
      },
      "outputs": [],
      "source": [
        "import json\n",
        "\n",
        "def generate_prompt(text, count):\n",
        "    prompt_prefix = \"\"\"{}\n",
        "------------------------------------\n",
        "Generate {} short briefs as a list from the above story to give as input to an illustrator to generate relevant children's story illustrations.\n",
        "Strictly add no common prefix to briefs. Strictly generate each brief as a single sentence that contains all the necessary information.\n",
        "Strictly output your response in a JSON list format, adhering to the following sample structure:\"\"\".format(json.dumps(text), json.dumps(count))\n",
        "\n",
        "    sample_output = {\"illustrations\": [\"...\", \"...\", \"...\"]}\n",
        "\n",
        "    prompt_postinstruction = \"\\nOutput:\"\n",
        "\n",
        "    return prompt_prefix + json.dumps(sample_output) + prompt_postinstruction\n",
        "\n"
      ]
    },
    {
      "cell_type": "code",
      "execution_count": null,
      "metadata": {
        "id": "cfVH_1ngdzSH"
      },
      "outputs": [],
      "source": [
        "# https://momlovesbest.com/short-moral-stories-kids\n",
        "\n",
        "text = \"\"\"Once, there was a boy who became bored when he watched over the village sheep grazing on the hillside. To entertain himself, he sang out, “Wolf! Wolf! The wolf is chasing the sheep!”\n",
        "When the villagers heard the cry, they ran up the hill to drive the wolf away. But when they arrived, they saw no wolf. The boy was amused when he saw their angry faces.\n",
        "“Don’t scream wolf when there is no wolf, boy!” the villagers warned. They angrily went back down the hill.\n",
        "Later, the shepherd boy cried out once again, “Wolf! Wolf! The wolf is chasing the sheep!” To his amusement, the villagers came running up the hill to scare the wolf away.\n",
        "As they saw there was no wolf, they said strictly, “Save your frightened cry for when there really is a wolf! Don’t cry ‘wolf’ when there is no wolf!” But the boy grinned at their words while they walked, grumbling down the hill once more.\n",
        "Later, the boy saw a real wolf sneaking around his flock. Alarmed, he jumped on his feet and cried out as loud as he could, “Wolf! Wolf!” But the villagers thought he was fooling them again, and they didn’t come to help.\n",
        "At sunset, the villagers went looking for the boy who hadn’t returned with their sheep. When they went up the hill, they found him weeping.\n",
        "“There was a wolf here! The flock is gone! I cried out, ‘Wolf!’ but you didn’t come,” he wailed.\"\"\"\n",
        "\n",
        "count = 3\n",
        "prompt = generate_prompt(text, count)\n",
        "\n",
        "print (prompt)"
      ]
    },
    {
      "cell_type": "code",
      "execution_count": null,
      "metadata": {
        "id": "tNYHDVYeeacD"
      },
      "outputs": [],
      "source": [
        "illustrator_prompts = fetch_illustrator_prompts(prompt,chatgpt_url,chatgpt_headers)\n",
        "print (illustrator_prompts)\n",
        "for each in illustrator_prompts['illustrations']:\n",
        "  print (each)"
      ]
    },
    {
      "cell_type": "code",
      "source": [
        "from segmind import SDXL\n",
        "model = SDXL(segmindkey)"
      ],
      "metadata": {
        "id": "UiLSVM8fs5L-"
      },
      "execution_count": null,
      "outputs": []
    },
    {
      "cell_type": "code",
      "execution_count": null,
      "metadata": {
        "id": "CAorjxIE2sGg"
      },
      "outputs": [],
      "source": [
        "import os\n",
        "import io\n",
        "import requests\n",
        "from PIL import Image\n",
        "import random\n",
        "\n",
        "def generate_images(prompts, style):\n",
        "    all_images =[]\n",
        "\n",
        "    num_images = len(prompts)\n",
        "\n",
        "    currentseed = random.randint(1, 1000000)\n",
        "    print (\"seed \",currentseed)\n",
        "\n",
        "    negative_prompt = \"photorealistic, realistic, photograph, deformed, mutated, stock photo, 35mm film, deformed, glitch, low contrast, noisy\"\n",
        "\n",
        "    for i, prompt in enumerate(prompts):\n",
        "\n",
        "        final_prompt = \"{},{}\".format(prompt.replace('.',\",\"),style)\n",
        "        img = model.generate(prompt = final_prompt,negative_prompt=negative_prompt,samples = 1,style = style,scheduler=\"UniPC\",\n",
        "                             seed =currentseed, num_inference_steps=30)\n",
        "\n",
        "\n",
        "        print (f\"Image {i + 1}/{num_images} is generated\")\n",
        "        # img will be a PIL image\n",
        "        all_images.append(img)\n",
        "\n",
        "    return all_images"
      ]
    },
    {
      "cell_type": "code",
      "execution_count": null,
      "metadata": {
        "id": "f8RsJkIX8MRG"
      },
      "outputs": [],
      "source": [
        "style = \"watercolor\"\n",
        "# style = \"kawaii\"\n",
        "all_images = generate_images(illustrator_prompts['illustrations'],style)"
      ]
    },
    {
      "cell_type": "code",
      "execution_count": null,
      "metadata": {
        "id": "KjEuwiw386Bu"
      },
      "outputs": [],
      "source": [
        "!pip install --quiet ipyplot"
      ]
    },
    {
      "cell_type": "code",
      "execution_count": null,
      "metadata": {
        "id": "7O4P54469BoQ"
      },
      "outputs": [],
      "source": [
        "import ipyplot\n",
        "ipyplot.plot_images(all_images,labels=illustrator_prompts['illustrations'],img_width = 300)"
      ]
    },
    {
      "cell_type": "code",
      "source": [
        "import gradio as gr\n",
        "import shutil\n",
        "import os\n",
        "\n",
        "# https://momlovesbest.com/short-moral-stories-kids\n",
        "\n",
        "story_1= \"\"\"Once, there was a boy who became bored when he watched over the village sheep grazing on the hillside. To entertain himself, he sang out, “Wolf! Wolf! The wolf is chasing the sheep!”\n",
        "When the villagers heard the cry, they ran up the hill to drive the wolf away. But when they arrived, they saw no wolf. The boy was amused when he saw their angry faces.\n",
        "“Don’t scream wolf when there is no wolf, boy!” the villagers warned. They angrily went back down the hill.\n",
        "Later, the shepherd boy cried out once again, “Wolf! Wolf! The wolf is chasing the sheep!” To his amusement, the villagers came running up the hill to scare the wolf away.\n",
        "As they saw there was no wolf, they said strictly, “Save your frightened cry for when there really is a wolf! Don’t cry ‘wolf’ when there is no wolf!” But the boy grinned at their words while they walked, grumbling down the hill once more.\n",
        "Later, the boy saw a real wolf sneaking around his flock. Alarmed, he jumped on his feet and cried out as loud as he could, “Wolf! Wolf!” But the villagers thought he was fooling them again, and they didn’t come to help.\n",
        "At sunset, the villagers went looking for the boy who hadn’t returned with their sheep. When they went up the hill, they found him weeping.\n",
        "“There was a wolf here! The flock is gone! I cried out, ‘Wolf!’ but you didn’t come,” he wailed.\"\"\"\n",
        "\n",
        "def create_illustrations(textInp, styleInp):\n",
        "\n",
        "    prompt = generate_prompt(textInp, 3)\n",
        "    illustrator_prompts = fetch_illustrator_prompts(prompt, chatgpt_url, chatgpt_headers)\n",
        "    pil_images = generate_images(illustrator_prompts['illustrations'], styleInp)\n",
        "\n",
        "    return pil_images\n",
        "\n",
        "topics = [\"watercolor\", \"comic book\", \"kawaii\", \"line art\"]\n",
        "\n",
        "with gr.Blocks() as demo:\n",
        "    gr.Markdown(\"# Kid's story illustrations generator\")\n",
        "    text_input = gr.Textbox(value=story_1, label=\"Enter Text\", lines=4,max_lines=6)\n",
        "    genre = gr.Dropdown(choices=topics)\n",
        "    btn_create_illustrations = gr.Button('Generate Illustrations')\n",
        "    gallery = gr.Gallery(label=\"images\", columns=3)\n",
        "\n",
        "    btn_create_illustrations.click(fn=create_illustrations, inputs=[text_input, genre], outputs=[gallery])\n",
        "\n",
        "demo.launch(debug=True, enable_queue=True)"
      ],
      "metadata": {
        "id": "52SgRs9vOJOV"
      },
      "execution_count": null,
      "outputs": []
    }
  ],
  "metadata": {
    "colab": {
      "provenance": [],
      "include_colab_link": true
    },
    "kernelspec": {
      "display_name": "Python 3",
      "name": "python3"
    },
    "language_info": {
      "name": "python"
    }
  },
  "nbformat": 4,
  "nbformat_minor": 0
}